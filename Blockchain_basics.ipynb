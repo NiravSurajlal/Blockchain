{
 "cells": [
  {
   "cell_type": "markdown",
   "metadata": {},
   "source": [
    "# Blockchain\n",
    "\n",
    "Using JSON (javascript object notation) to trasnport data because lightweight, often used for server-> webpage data movement, 'self-describing'.\n",
    "\n",
    "- Data in name value pairs\n",
    "- Data seperated by commas\n",
    "- Curly brackets hold objects\n",
    "- Square brackets hold arrays\n",
    "\n",
    "eg:\n",
    "{\n",
    "\"employees\":[\n",
    "\n",
    "    {\"firstName\":\"John\", \"lastName\":\"Doe\"},\n",
    "    {\"firstName\":\"Anna\", \"lastName\":\"Smith\"},\n",
    "    {\"firstName\":\"Peter\", \"lastName\":\"Jones\"}\n",
    "    \n",
    "]\n",
    "}\n",
    "\n",
    "Obj employees is an array with 3 objects. Each obj is a record of a person witha first and last name. \n",
    "\n",
    "For the __HASH__, look at various crypto methods. For storing passwords and usernames, also look at salt (crypto). Each transaction in block is usually hashed, resulting in a hash or __merkel tree__.\n",
    "\n",
    "__object.--dict--__ is a special attribute that returns the obj as a dictionary:\n",
    "\n"
   ]
  },
  {
   "cell_type": "code",
   "execution_count": 14,
   "metadata": {},
   "outputs": [
    {
     "name": "stdout",
     "output_type": "stream",
     "text": [
      "{'__module__': '__main__', 'class_var': 1, '__init__': <function MyClass.__init__ at 0x7f7c0c2c1950>, '__dict__': <attribute '__dict__' of 'MyClass' objects>, '__weakref__': <attribute '__weakref__' of 'MyClass' objects>, '__doc__': None}\n",
      "{'i_var': 2, 'b_var': 4}\n",
      "{'i_var': 3, 'b_var': 6}\n"
     ]
    }
   ],
   "source": [
    "class MyClass(object):\n",
    "    class_var = 1\n",
    "\n",
    "    def __init__(self, i_vaw, b_var):\n",
    "        self.i_var = i_vaw\n",
    "        self.b_var = b_var\n",
    "\n",
    "foo = MyClass(2, 4)\n",
    "bar = MyClass(3, 6)\n",
    "\n",
    "print (MyClass.__dict__)\n",
    "print (foo.__dict__)\n",
    "print (bar.__dict__)\n"
   ]
  },
  {
   "cell_type": "code",
   "execution_count": 2,
   "metadata": {},
   "outputs": [],
   "source": [
    "from hashlib import sha256\n",
    "import json\n",
    "\n",
    "class Block:\n",
    "    def __init__(self, index, transac, timestap):\n",
    "        \"\"\" Block constructor\n",
    "            :param index: unique  block ID\n",
    "            :param transac: list of transactions\n",
    "            :param timestamp: Time generation of block\"\"\"\n",
    "        self.index = index\n",
    "        self.transac = transac\n",
    "        self.timestamp = timestamp\n",
    "\n",
    "    def hasher(block):\n",
    "        \"\"\" Returns hash of block after convertnig\n",
    "            to JSON string\"\"\"\n",
    "        block_json_str = json.dumps(self.__dict__, sort_keys=True)\n",
    "        return sha256(block_json_str.encode()).hexdigest()"
   ]
  },
  {
   "cell_type": "code",
   "execution_count": 7,
   "metadata": {},
   "outputs": [
    {
     "data": {
      "text/plain": [
       "'a591a6d40bf420404a011733cfb7b190d62c65bf0bcda32b57b277d9ad9f146e'"
      ]
     },
     "execution_count": 7,
     "metadata": {},
     "output_type": "execute_result"
    }
   ],
   "source": [
    "data = b\"Hello World\"\n",
    "sha256(data).hexdigest()"
   ]
  },
  {
   "cell_type": "code",
   "execution_count": 8,
   "metadata": {},
   "outputs": [
    {
     "data": {
      "text/plain": [
       "'a591a6d40bf420404a011733cfb7b190d62c65bf0bcda32b57b277d9ad9f146e'"
      ]
     },
     "execution_count": 8,
     "metadata": {},
     "output_type": "execute_result"
    }
   ],
   "source": [
    "data = b\"Hello World\"\n",
    "sha256(data).hexdigest()"
   ]
  },
  {
   "cell_type": "code",
   "execution_count": 9,
   "metadata": {},
   "outputs": [
    {
     "data": {
      "text/plain": [
       "'b67ac8c5bbbe3e844cfda6eb8c93f224683d18f4b6ad9a8cb2877991165103e2'"
      ]
     },
     "execution_count": 9,
     "metadata": {},
     "output_type": "execute_result"
    }
   ],
   "source": [
    "data = b\"Hello1 World\"\n",
    "sha256(data).hexdigest()"
   ]
  },
  {
   "cell_type": "code",
   "execution_count": null,
   "metadata": {},
   "outputs": [],
   "source": []
  }
 ],
 "metadata": {
  "kernelspec": {
   "display_name": "Python 3",
   "language": "python",
   "name": "python3"
  },
  "language_info": {
   "codemirror_mode": {
    "name": "ipython",
    "version": 3
   },
   "file_extension": ".py",
   "mimetype": "text/x-python",
   "name": "python",
   "nbconvert_exporter": "python",
   "pygments_lexer": "ipython3",
   "version": "3.6.3"
  }
 },
 "nbformat": 4,
 "nbformat_minor": 2
}
