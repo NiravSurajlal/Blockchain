{
 "cells": [
  {
   "cell_type": "markdown",
   "metadata": {},
   "source": [
    "# Blockchain\n",
    "\n",
    "Using JSON (javascript object notation) to trasnport data because lightweight, often used for server-> webpage data movement, 'self-describing'.\n",
    "\n",
    "- Data in name value pairs\n",
    "- Data seperated by commas\n",
    "- Curly brackets hold objects\n",
    "- Square brackets hold arrays\n",
    "\n",
    "eg:\n",
    "{\n",
    "\"employees\":[\n",
    "\n",
    "    {\"firstName\":\"John\", \"lastName\":\"Doe\"},\n",
    "    {\"firstName\":\"Anna\", \"lastName\":\"Smith\"},\n",
    "    {\"firstName\":\"Peter\", \"lastName\":\"Jones\"}\n",
    "    \n",
    "]\n",
    "}\n",
    "\n",
    "Obj employees is an array with 3 objects. Each obj is a record of a person witha first and last name. \n",
    "\n",
    "For the __HASH__, look at various crypto methods. For storing passwords and usernames, also look at salt (crypto). Each transaction in block is usually hashed, resulting in a hash or __merkel tree__.\n",
    "\n",
    "__object.--dict--__ is a special attribute that returns the obj as a dictionary (example below).\n",
    "\n",
    "Hash's can be __stored__ in a python __list__. __Dependency__ is required to prevent invalidation. Taking an old block and replacing it with a new one can occur, so something must be done. This can be achieved by using the previous block's hash in the current one. The first block is called the __genesis block__. It can be uniquelly created by logic ('randomly') or manually.If content of any block prev changes, _prev-hash_ field will have a __mismatch__, thus the entire chain must be recomputed. \n",
    "\n",
    "It is possible to recompute, thus add a __constraint__ of some kind. New Block class attribute called __nonce__.\n",
    "\n",
    "Blocks can be added to the chain if they are __untampered__ and the __transaction order__ is preserved (prev_hash in block to be added points to hash of last block in chain).\n",
    "\n",
    "#### Also See: \n",
    "Merkel tree  \n",
    "HashCash for proof of work"
   ]
  },
  {
   "cell_type": "code",
   "execution_count": 14,
   "metadata": {},
   "outputs": [
    {
     "name": "stdout",
     "output_type": "stream",
     "text": [
      "{'__module__': '__main__', 'class_var': 1, '__init__': <function MyClass.__init__ at 0x7f7c0c2c1950>, '__dict__': <attribute '__dict__' of 'MyClass' objects>, '__weakref__': <attribute '__weakref__' of 'MyClass' objects>, '__doc__': None}\n",
      "{'i_var': 2, 'b_var': 4}\n",
      "{'i_var': 3, 'b_var': 6}\n"
     ]
    }
   ],
   "source": [
    "class MyClass(object):\n",
    "    class_var = 1\n",
    "\n",
    "    def __init__(self, i_vaw, b_var):\n",
    "        self.i_var = i_vaw\n",
    "        self.b_var = b_var\n",
    "\n",
    "foo = MyClass(2, 4)\n",
    "bar = MyClass(3, 6)\n",
    "\n",
    "print (MyClass.__dict__)\n",
    "print (foo.__dict__)\n",
    "print (bar.__dict__)\n"
   ]
  },
  {
   "cell_type": "code",
   "execution_count": 1,
   "metadata": {},
   "outputs": [],
   "source": [
    "from hashlib import sha256\n",
    "import json\n",
    "import time\n",
    "import pdb   # pdb.set_trace()\n",
    "\n",
    "class Block:\n",
    "    def __init__(self, index, transac, timestamp, prev_hash):\n",
    "        \"\"\" Block constructor\n",
    "            :param index: unique  block ID\n",
    "            :param transac: list of transactions\n",
    "            :param timestamp: Time generation of block\n",
    "            :param previous_hash: Previous block's hash of which this is a part off \"\"\"\n",
    "        self.index = index\n",
    "        self.transac = transac\n",
    "        self.timestamp = timestamp\n",
    "        self.prev_hash = prev_hash\n",
    "\n",
    "    def hasher(self):\n",
    "        \"\"\" Returns hash of block after convertnig\n",
    "            to JSON string \"\"\"\n",
    "        block_json_str = json.dumps(self.__dict__, sort_keys=True)\n",
    "        return sha256(block_json_str.encode()).hexdigest()\n",
    "    \n",
    "class Blockchain:\n",
    "    #Proof of work difficulty\n",
    "    difficulty = 2\n",
    "    \n",
    "    def __init__(self):\n",
    "        \"\"\" Blockchain constructor \"\"\"\n",
    "        self.chain = []\n",
    "        self.genesis_block()\n",
    "        \n",
    "    def genesis_block(self):\n",
    "        \"\"\" Generates the index 0 \n",
    "        block and appends it to chain \"\"\"\n",
    "        gb = Block(0, [], time.time(), \"0\")            # Block obj\n",
    "        gb.hash = gb.hasher()                          # Created Attribute\n",
    "        self.chain.append(gb)\n",
    "        \n",
    "    def last_block(self):\n",
    "        \"\"\" Retrieves last block.\n",
    "            Will always have at least one (genesis) \"\"\"\n",
    "        return self.chain[-1]\n",
    "    \n",
    "    def proof_of_work(self, block):\n",
    "        \"\"\" Tries diff vals of nonce to get \n",
    "            hash that satisfies difficulty \"\"\"\n",
    "        block.nonce = 0 #created attribute\n",
    "        \n",
    "    def add_block(self, block, proof):\n",
    "        \"\"\" Func which adds block to chain after verification\n",
    "            * Checks if proof is valid.\n",
    "            * Checks if prev_hash of block matches latest block. \"\"\"\n",
    "        previous_hash = self.last_block.hash\n",
    "        \n",
    "        if previous_hash != block.prev_hash:\n",
    "            return False\n",
    "        if not Blockchain.is_valid_proof(block, proof):\n",
    "            return False\n",
    "        \n",
    "        block.hash = proof\n",
    "        self.chain.append(block)\n",
    "        return True\n",
    "\n",
    "    def is_valid_proof(self, block, block_hash):\n",
    "        \"\"\" Check is block_hash is valid & satisfies difficulty \"\"\"\n",
    "        return (block_hash.startwith('0'*Blockchain.difficulty) and block_hash == block.compute_hash())\n",
    "\n",
    "q = Blockchain()\n"
   ]
  },
  {
   "cell_type": "code",
   "execution_count": 7,
   "metadata": {},
   "outputs": [
    {
     "data": {
      "text/plain": [
       "'a591a6d40bf420404a011733cfb7b190d62c65bf0bcda32b57b277d9ad9f146e'"
      ]
     },
     "execution_count": 7,
     "metadata": {},
     "output_type": "execute_result"
    }
   ],
   "source": [
    "data = b\"Hello World\"\n",
    "sha256(data).hexdigest()"
   ]
  },
  {
   "cell_type": "code",
   "execution_count": 8,
   "metadata": {},
   "outputs": [
    {
     "data": {
      "text/plain": [
       "'a591a6d40bf420404a011733cfb7b190d62c65bf0bcda32b57b277d9ad9f146e'"
      ]
     },
     "execution_count": 8,
     "metadata": {},
     "output_type": "execute_result"
    }
   ],
   "source": [
    "data = b\"Hello World\"\n",
    "sha256(data).hexdigest()"
   ]
  },
  {
   "cell_type": "code",
   "execution_count": 9,
   "metadata": {},
   "outputs": [
    {
     "data": {
      "text/plain": [
       "'b67ac8c5bbbe3e844cfda6eb8c93f224683d18f4b6ad9a8cb2877991165103e2'"
      ]
     },
     "execution_count": 9,
     "metadata": {},
     "output_type": "execute_result"
    }
   ],
   "source": [
    "data = b\"Hello1 World\"\n",
    "sha256(data).hexdigest()"
   ]
  },
  {
   "cell_type": "code",
   "execution_count": 16,
   "metadata": {},
   "outputs": [
    {
     "ename": "NameError",
     "evalue": "name 'time' is not defined",
     "output_type": "error",
     "traceback": [
      "\u001b[0;31m---------------------------------------------------------------------------\u001b[0m",
      "\u001b[0;31mNameError\u001b[0m                                 Traceback (most recent call last)",
      "\u001b[0;32m<ipython-input-16-632c90c82b25>\u001b[0m in \u001b[0;36m<module>\u001b[0;34m()\u001b[0m\n\u001b[0;32m----> 1\u001b[0;31m \u001b[0mtime\u001b[0m\u001b[0;34m.\u001b[0m\u001b[0mtime\u001b[0m\u001b[0;34m(\u001b[0m\u001b[0;34m)\u001b[0m\u001b[0;34m\u001b[0m\u001b[0m\n\u001b[0m",
      "\u001b[0;31mNameError\u001b[0m: name 'time' is not defined"
     ]
    }
   ],
   "source": [
    "time.time()"
   ]
  },
  {
   "cell_type": "code",
   "execution_count": null,
   "metadata": {},
   "outputs": [],
   "source": []
  },
  {
   "cell_type": "code",
   "execution_count": null,
   "metadata": {},
   "outputs": [],
   "source": []
  }
 ],
 "metadata": {
  "kernelspec": {
   "display_name": "Python 3",
   "language": "python",
   "name": "python3"
  },
  "language_info": {
   "codemirror_mode": {
    "name": "ipython",
    "version": 3
   },
   "file_extension": ".py",
   "mimetype": "text/x-python",
   "name": "python",
   "nbconvert_exporter": "python",
   "pygments_lexer": "ipython3",
   "version": "3.6.3"
  }
 },
 "nbformat": 4,
 "nbformat_minor": 2
}
